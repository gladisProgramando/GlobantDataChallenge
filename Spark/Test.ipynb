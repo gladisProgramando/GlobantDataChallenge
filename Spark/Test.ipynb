{
  "nbformat": 4,
  "nbformat_minor": 0,
  "metadata": {
    "colab": {
      "provenance": []
    },
    "kernelspec": {
      "name": "python3",
      "display_name": "Python 3"
    },
    "language_info": {
      "name": "python"
    }
  },
  "cells": [
    {
      "cell_type": "markdown",
      "source": [
        "**Install Dependencies:**\n",
        "\n",
        "\n",
        "Java 8 Apache Spark with hadoop and Findspark (used to locate the spark in the system)"
      ],
      "metadata": {
        "id": "y0HDhzsieWrq"
      }
    },
    {
      "cell_type": "code",
      "source": [
        "!pip install -q pyspark"
      ],
      "metadata": {
        "id": "sumPe7EZDL3s"
      },
      "execution_count": 4,
      "outputs": []
    },
    {
      "cell_type": "code",
      "execution_count": 6,
      "metadata": {
        "id": "79lppsRdeRXM",
        "colab": {
          "base_uri": "https://localhost:8080/",
          "height": 237
        },
        "outputId": "0f041345-94a6-4cb9-8bcd-6c31ba5b8dd8"
      },
      "outputs": [
        {
          "output_type": "stream",
          "name": "stdout",
          "text": [
            "spark-3.5.1-bin-had 100%[===================>] 381.90M   906KB/s    in 19m 3s  \n"
          ]
        },
        {
          "output_type": "execute_result",
          "data": {
            "text/plain": [
              "<pyspark.sql.session.SparkSession at 0x7a7b1cba8cd0>"
            ],
            "text/html": [
              "\n",
              "            <div>\n",
              "                <p><b>SparkSession - in-memory</b></p>\n",
              "                \n",
              "        <div>\n",
              "            <p><b>SparkContext</b></p>\n",
              "\n",
              "            <p><a href=\"http://e301d4ff9f69:4040\">Spark UI</a></p>\n",
              "\n",
              "            <dl>\n",
              "              <dt>Version</dt>\n",
              "                <dd><code>v3.5.1</code></dd>\n",
              "              <dt>Master</dt>\n",
              "                <dd><code>local[*]</code></dd>\n",
              "              <dt>AppName</dt>\n",
              "                <dd><code>pyspark-shell</code></dd>\n",
              "            </dl>\n",
              "        </div>\n",
              "        \n",
              "            </div>\n",
              "        "
            ]
          },
          "metadata": {},
          "execution_count": 6
        }
      ],
      "source": [
        "!apt-get install openjdk-8-jdk-headless -qq > /dev/null\n",
        "!wget -q --show-progress http://archive.apache.org/dist/spark/spark-3.5.1/spark-3.5.1-bin-hadoop3.tgz\n",
        "!tar xf spark-3.5.1-bin-hadoop3.tgz\n",
        "!pip install -q findspark\n",
        "\n",
        "import os\n",
        "os.environ[\"JAVA_HOME\"] = \"/usr/lib/jvm/java-8-openjdk-amd64\"\n",
        "os.environ[\"SPARK_HOME\"] = \"/content/spark-3.5.1-bin-hadoop3\"\n",
        "\n",
        "import findspark\n",
        "findspark.init()\n",
        "from pyspark.sql import SparkSession\n",
        "spark = SparkSession.builder.master(\"local[*]\").getOrCreate()\n",
        "spark.conf.set(\"spark.sql.repl.eagerEval.enabled\", True)\n",
        "spark"
      ]
    },
    {
      "cell_type": "markdown",
      "source": [
        "Loading Dataset"
      ],
      "metadata": {
        "id": "ZxBG4BRGeoqd"
      }
    },
    {
      "cell_type": "code",
      "source": [
        "!wget https://jacobceles.github.io/knowledge_repo/colab_and_pyspark/cars.csv"
      ],
      "metadata": {
        "id": "YnZpeGytepa-",
        "colab": {
          "base_uri": "https://localhost:8080/"
        },
        "outputId": "4f039806-109d-4385-8a1f-3c0d999e983d"
      },
      "execution_count": 7,
      "outputs": [
        {
          "output_type": "stream",
          "name": "stdout",
          "text": [
            "--2025-02-10 18:31:02--  https://jacobceles.github.io/knowledge_repo/colab_and_pyspark/cars.csv\n",
            "Resolving jacobceles.github.io (jacobceles.github.io)... 185.199.108.153, 185.199.109.153, 185.199.110.153, ...\n",
            "Connecting to jacobceles.github.io (jacobceles.github.io)|185.199.108.153|:443... connected.\n",
            "HTTP request sent, awaiting response... 301 Moved Permanently\n",
            "Location: https://jacobcelestine.com/knowledge_repo/colab_and_pyspark/cars.csv [following]\n",
            "--2025-02-10 18:31:02--  https://jacobcelestine.com/knowledge_repo/colab_and_pyspark/cars.csv\n",
            "Resolving jacobcelestine.com (jacobcelestine.com)... 185.199.108.153, 185.199.109.153, 185.199.110.153, ...\n",
            "Connecting to jacobcelestine.com (jacobcelestine.com)|185.199.108.153|:443... connected.\n",
            "HTTP request sent, awaiting response... 200 OK\n",
            "Length: 22608 (22K) [text/csv]\n",
            "Saving to: ‘cars.csv’\n",
            "\n",
            "cars.csv            100%[===================>]  22.08K  --.-KB/s    in 0.001s  \n",
            "\n",
            "2025-02-10 18:31:02 (22.7 MB/s) - ‘cars.csv’ saved [22608/22608]\n",
            "\n"
          ]
        }
      ]
    },
    {
      "cell_type": "markdown",
      "source": [
        "Load data from csv to a dataframe. Columns separated by ;"
      ],
      "metadata": {
        "id": "C48bUo55eqTl"
      }
    },
    {
      "cell_type": "code",
      "source": [
        "# Cargar el archivo CSV en un DataFrame de Spark\n",
        "df = spark.read.csv(\"cars.csv\", sep=\";\", header=True, inferSchema=True)"
      ],
      "metadata": {
        "id": "YKIZzyYPewK4"
      },
      "execution_count": 57,
      "outputs": []
    },
    {
      "cell_type": "markdown",
      "source": [
        "Select columns\n",
        "\n",
        "*   List columns\n",
        "*   Select by column name\n",
        "\n"
      ],
      "metadata": {
        "id": "nBwaQUeZezPO"
      }
    },
    {
      "cell_type": "code",
      "source": [
        "# Listar todas las columnas del DataFrame\n",
        "df.columns"
      ],
      "metadata": {
        "id": "rTq59vGGez7K",
        "colab": {
          "base_uri": "https://localhost:8080/"
        },
        "outputId": "d830a088-0b5c-49b9-e7df-cc28594506de"
      },
      "execution_count": 58,
      "outputs": [
        {
          "output_type": "execute_result",
          "data": {
            "text/plain": [
              "['Car',\n",
              " 'MPG',\n",
              " 'Cylinders',\n",
              " 'Displacement',\n",
              " 'Horsepower',\n",
              " 'Weight',\n",
              " 'Acceleration',\n",
              " 'Model',\n",
              " 'Origin']"
            ]
          },
          "metadata": {},
          "execution_count": 58
        }
      ]
    },
    {
      "cell_type": "code",
      "source": [
        "# Seleccionar por nombre de columna\n",
        "columns_to_select = [df.columns]\n",
        "df_selected = df.select(*columns_to_select)\n",
        "df_selected.show()"
      ],
      "metadata": {
        "colab": {
          "base_uri": "https://localhost:8080/"
        },
        "id": "utT4hBGBIpBH",
        "outputId": "bdcbc66d-df43-4353-e26f-e5ad83716759"
      },
      "execution_count": 59,
      "outputs": [
        {
          "output_type": "stream",
          "name": "stdout",
          "text": [
            "+--------------------+----+---------+------------+----------+------+------------+-----+------+\n",
            "|                 Car| MPG|Cylinders|Displacement|Horsepower|Weight|Acceleration|Model|Origin|\n",
            "+--------------------+----+---------+------------+----------+------+------------+-----+------+\n",
            "|Chevrolet Chevell...|18.0|        8|       307.0|     130.0|  3504|        12.0|   70|    US|\n",
            "|   Buick Skylark 320|15.0|        8|       350.0|     165.0|  3693|        11.5|   70|    US|\n",
            "|  Plymouth Satellite|18.0|        8|       318.0|     150.0|  3436|        11.0|   70|    US|\n",
            "|       AMC Rebel SST|16.0|        8|       304.0|     150.0|  3433|        12.0|   70|    US|\n",
            "|         Ford Torino|17.0|        8|       302.0|     140.0|  3449|        10.5|   70|    US|\n",
            "|    Ford Galaxie 500|15.0|        8|       429.0|     198.0|  4341|        10.0|   70|    US|\n",
            "|    Chevrolet Impala|14.0|        8|       454.0|     220.0|  4354|         9.0|   70|    US|\n",
            "|   Plymouth Fury iii|14.0|        8|       440.0|     215.0|  4312|         8.5|   70|    US|\n",
            "|    Pontiac Catalina|14.0|        8|       455.0|     225.0|  4425|        10.0|   70|    US|\n",
            "|  AMC Ambassador DPL|15.0|        8|       390.0|     190.0|  3850|         8.5|   70|    US|\n",
            "|Citroen DS-21 Pallas| 0.0|        4|       133.0|     115.0|  3090|        17.5|   70|Europe|\n",
            "|Chevrolet Chevell...| 0.0|        8|       350.0|     165.0|  4142|        11.5|   70|    US|\n",
            "|    Ford Torino (sw)| 0.0|        8|       351.0|     153.0|  4034|        11.0|   70|    US|\n",
            "|Plymouth Satellit...| 0.0|        8|       383.0|     175.0|  4166|        10.5|   70|    US|\n",
            "|  AMC Rebel SST (sw)| 0.0|        8|       360.0|     175.0|  3850|        11.0|   70|    US|\n",
            "| Dodge Challenger SE|15.0|        8|       383.0|     170.0|  3563|        10.0|   70|    US|\n",
            "|  Plymouth 'Cuda 340|14.0|        8|       340.0|     160.0|  3609|         8.0|   70|    US|\n",
            "|Ford Mustang Boss...| 0.0|        8|       302.0|     140.0|  3353|         8.0|   70|    US|\n",
            "|Chevrolet Monte C...|15.0|        8|       400.0|     150.0|  3761|         9.5|   70|    US|\n",
            "|Buick Estate Wago...|14.0|        8|       455.0|     225.0|  3086|        10.0|   70|    US|\n",
            "+--------------------+----+---------+------------+----------+------+------------+-----+------+\n",
            "only showing top 20 rows\n",
            "\n"
          ]
        }
      ]
    },
    {
      "cell_type": "markdown",
      "source": [
        "Add a new column and populate it with any literal value."
      ],
      "metadata": {
        "id": "TYJQBGN2fLY2"
      }
    },
    {
      "cell_type": "code",
      "source": [
        "from pyspark.sql.functions import lit\n",
        "df = df.withColumn(\"GladisTesting\", lit(1))\n",
        "df.show()"
      ],
      "metadata": {
        "id": "mnXFfLS5fQSg",
        "colab": {
          "base_uri": "https://localhost:8080/"
        },
        "outputId": "bcb0e2c5-1068-48b2-b6b2-c082a3ddae34"
      },
      "execution_count": 61,
      "outputs": [
        {
          "output_type": "stream",
          "name": "stdout",
          "text": [
            "+--------------------+----+---------+------------+----------+------+------------+-----+------+-------------+\n",
            "|                 Car| MPG|Cylinders|Displacement|Horsepower|Weight|Acceleration|Model|Origin|GladisTesting|\n",
            "+--------------------+----+---------+------------+----------+------+------------+-----+------+-------------+\n",
            "|Chevrolet Chevell...|18.0|        8|       307.0|     130.0|  3504|        12.0|   70|    US|            1|\n",
            "|   Buick Skylark 320|15.0|        8|       350.0|     165.0|  3693|        11.5|   70|    US|            1|\n",
            "|  Plymouth Satellite|18.0|        8|       318.0|     150.0|  3436|        11.0|   70|    US|            1|\n",
            "|       AMC Rebel SST|16.0|        8|       304.0|     150.0|  3433|        12.0|   70|    US|            1|\n",
            "|         Ford Torino|17.0|        8|       302.0|     140.0|  3449|        10.5|   70|    US|            1|\n",
            "|    Ford Galaxie 500|15.0|        8|       429.0|     198.0|  4341|        10.0|   70|    US|            1|\n",
            "|    Chevrolet Impala|14.0|        8|       454.0|     220.0|  4354|         9.0|   70|    US|            1|\n",
            "|   Plymouth Fury iii|14.0|        8|       440.0|     215.0|  4312|         8.5|   70|    US|            1|\n",
            "|    Pontiac Catalina|14.0|        8|       455.0|     225.0|  4425|        10.0|   70|    US|            1|\n",
            "|  AMC Ambassador DPL|15.0|        8|       390.0|     190.0|  3850|         8.5|   70|    US|            1|\n",
            "|Citroen DS-21 Pallas| 0.0|        4|       133.0|     115.0|  3090|        17.5|   70|Europe|            1|\n",
            "|Chevrolet Chevell...| 0.0|        8|       350.0|     165.0|  4142|        11.5|   70|    US|            1|\n",
            "|    Ford Torino (sw)| 0.0|        8|       351.0|     153.0|  4034|        11.0|   70|    US|            1|\n",
            "|Plymouth Satellit...| 0.0|        8|       383.0|     175.0|  4166|        10.5|   70|    US|            1|\n",
            "|  AMC Rebel SST (sw)| 0.0|        8|       360.0|     175.0|  3850|        11.0|   70|    US|            1|\n",
            "| Dodge Challenger SE|15.0|        8|       383.0|     170.0|  3563|        10.0|   70|    US|            1|\n",
            "|  Plymouth 'Cuda 340|14.0|        8|       340.0|     160.0|  3609|         8.0|   70|    US|            1|\n",
            "|Ford Mustang Boss...| 0.0|        8|       302.0|     140.0|  3353|         8.0|   70|    US|            1|\n",
            "|Chevrolet Monte C...|15.0|        8|       400.0|     150.0|  3761|         9.5|   70|    US|            1|\n",
            "|Buick Estate Wago...|14.0|        8|       455.0|     225.0|  3086|        10.0|   70|    US|            1|\n",
            "+--------------------+----+---------+------------+----------+------+------------+-----+------+-------------+\n",
            "only showing top 20 rows\n",
            "\n"
          ]
        }
      ]
    },
    {
      "cell_type": "markdown",
      "source": [
        "Rename the column named 'first_column' to 'new_column_one'"
      ],
      "metadata": {
        "id": "D9QaBYgDfWBT"
      }
    },
    {
      "cell_type": "markdown",
      "source": [],
      "metadata": {
        "id": "8FyZOiZKLPS_"
      }
    },
    {
      "cell_type": "code",
      "source": [
        "# I did not find \"first_column\" so, I am renaming my new column to \"new_column\"\n",
        "df = df.withColumnRenamed(\"GladisTesting\", \"new_column_one\")\n",
        "df.show()"
      ],
      "metadata": {
        "id": "XF7rjE6yfWwc",
        "colab": {
          "base_uri": "https://localhost:8080/"
        },
        "outputId": "e2dbfb21-5f1d-4fd9-94eb-0be75402f968"
      },
      "execution_count": 62,
      "outputs": [
        {
          "output_type": "stream",
          "name": "stdout",
          "text": [
            "+--------------------+----+---------+------------+----------+------+------------+-----+------+--------------+\n",
            "|                 Car| MPG|Cylinders|Displacement|Horsepower|Weight|Acceleration|Model|Origin|new_column_one|\n",
            "+--------------------+----+---------+------------+----------+------+------------+-----+------+--------------+\n",
            "|Chevrolet Chevell...|18.0|        8|       307.0|     130.0|  3504|        12.0|   70|    US|             1|\n",
            "|   Buick Skylark 320|15.0|        8|       350.0|     165.0|  3693|        11.5|   70|    US|             1|\n",
            "|  Plymouth Satellite|18.0|        8|       318.0|     150.0|  3436|        11.0|   70|    US|             1|\n",
            "|       AMC Rebel SST|16.0|        8|       304.0|     150.0|  3433|        12.0|   70|    US|             1|\n",
            "|         Ford Torino|17.0|        8|       302.0|     140.0|  3449|        10.5|   70|    US|             1|\n",
            "|    Ford Galaxie 500|15.0|        8|       429.0|     198.0|  4341|        10.0|   70|    US|             1|\n",
            "|    Chevrolet Impala|14.0|        8|       454.0|     220.0|  4354|         9.0|   70|    US|             1|\n",
            "|   Plymouth Fury iii|14.0|        8|       440.0|     215.0|  4312|         8.5|   70|    US|             1|\n",
            "|    Pontiac Catalina|14.0|        8|       455.0|     225.0|  4425|        10.0|   70|    US|             1|\n",
            "|  AMC Ambassador DPL|15.0|        8|       390.0|     190.0|  3850|         8.5|   70|    US|             1|\n",
            "|Citroen DS-21 Pallas| 0.0|        4|       133.0|     115.0|  3090|        17.5|   70|Europe|             1|\n",
            "|Chevrolet Chevell...| 0.0|        8|       350.0|     165.0|  4142|        11.5|   70|    US|             1|\n",
            "|    Ford Torino (sw)| 0.0|        8|       351.0|     153.0|  4034|        11.0|   70|    US|             1|\n",
            "|Plymouth Satellit...| 0.0|        8|       383.0|     175.0|  4166|        10.5|   70|    US|             1|\n",
            "|  AMC Rebel SST (sw)| 0.0|        8|       360.0|     175.0|  3850|        11.0|   70|    US|             1|\n",
            "| Dodge Challenger SE|15.0|        8|       383.0|     170.0|  3563|        10.0|   70|    US|             1|\n",
            "|  Plymouth 'Cuda 340|14.0|        8|       340.0|     160.0|  3609|         8.0|   70|    US|             1|\n",
            "|Ford Mustang Boss...| 0.0|        8|       302.0|     140.0|  3353|         8.0|   70|    US|             1|\n",
            "|Chevrolet Monte C...|15.0|        8|       400.0|     150.0|  3761|         9.5|   70|    US|             1|\n",
            "|Buick Estate Wago...|14.0|        8|       455.0|     225.0|  3086|        10.0|   70|    US|             1|\n",
            "+--------------------+----+---------+------------+----------+------+------------+-----+------+--------------+\n",
            "only showing top 20 rows\n",
            "\n"
          ]
        }
      ]
    },
    {
      "cell_type": "markdown",
      "source": [
        "Group by columns Origin and Model"
      ],
      "metadata": {
        "id": "UGK8c4xcfa9X"
      }
    },
    {
      "cell_type": "code",
      "source": [
        "df_grouped = df.groupBy(\"Origin\", \"Model\").count()\n",
        "# Mostrar el resultado\n",
        "df_grouped.show()"
      ],
      "metadata": {
        "id": "8xfxBVg5fbex",
        "colab": {
          "base_uri": "https://localhost:8080/"
        },
        "outputId": "b2fe1159-50e2-44f7-8474-133733693c95"
      },
      "execution_count": 63,
      "outputs": [
        {
          "output_type": "stream",
          "name": "stdout",
          "text": [
            "+------+-----+-----+\n",
            "|Origin|Model|count|\n",
            "+------+-----+-----+\n",
            "|Europe|   71|    5|\n",
            "|Europe|   80|    9|\n",
            "|Europe|   79|    4|\n",
            "| Japan|   75|    4|\n",
            "|    US|   72|   18|\n",
            "|    US|   80|    7|\n",
            "|Europe|   74|    6|\n",
            "| Japan|   79|    2|\n",
            "|Europe|   76|    8|\n",
            "|    US|   75|   20|\n",
            "| Japan|   77|    6|\n",
            "|    US|   82|   20|\n",
            "| Japan|   80|   13|\n",
            "| Japan|   78|    8|\n",
            "|    US|   78|   22|\n",
            "|Europe|   75|    6|\n",
            "|    US|   71|   20|\n",
            "|    US|   77|   18|\n",
            "| Japan|   70|    2|\n",
            "| Japan|   71|    4|\n",
            "+------+-----+-----+\n",
            "only showing top 20 rows\n",
            "\n"
          ]
        }
      ]
    },
    {
      "cell_type": "markdown",
      "source": [
        "Filter rows where Origin is Europe"
      ],
      "metadata": {
        "id": "hNkHA5MPfe8E"
      }
    },
    {
      "cell_type": "code",
      "source": [
        "df_filtered  = df.filter(df.Origin == \"Europe\")\n",
        "# Mostrar el resultado\n",
        "df_filtered.show()"
      ],
      "metadata": {
        "id": "4Y6vZKTqff_v",
        "colab": {
          "base_uri": "https://localhost:8080/"
        },
        "outputId": "440aff8b-71a4-4366-f881-47e1f5d241dc"
      },
      "execution_count": 64,
      "outputs": [
        {
          "output_type": "stream",
          "name": "stdout",
          "text": [
            "+--------------------+----+---------+------------+----------+------+------------+-----+------+--------------+\n",
            "|                 Car| MPG|Cylinders|Displacement|Horsepower|Weight|Acceleration|Model|Origin|new_column_one|\n",
            "+--------------------+----+---------+------------+----------+------+------------+-----+------+--------------+\n",
            "|Citroen DS-21 Pallas| 0.0|        4|       133.0|     115.0|  3090|        17.5|   70|Europe|             1|\n",
            "|Volkswagen 1131 D...|26.0|        4|        97.0|      46.0|  1835|        20.5|   70|Europe|             1|\n",
            "|         Peugeot 504|25.0|        4|       110.0|      87.0|  2672|        17.5|   70|Europe|             1|\n",
            "|         Audi 100 LS|24.0|        4|       107.0|      90.0|  2430|        14.5|   70|Europe|             1|\n",
            "|            Saab 99e|25.0|        4|       104.0|      95.0|  2375|        17.5|   70|Europe|             1|\n",
            "|            BMW 2002|26.0|        4|       121.0|     113.0|  2234|        12.5|   70|Europe|             1|\n",
            "|Volkswagen Super ...| 0.0|        4|        97.0|      48.0|  1978|        20.0|   71|Europe|             1|\n",
            "|           Opel 1900|28.0|        4|       116.0|      90.0|  2123|        14.0|   71|Europe|             1|\n",
            "|         Peugeot 304|30.0|        4|        79.0|      70.0|  2074|        19.5|   71|Europe|             1|\n",
            "|           Fiat 124B|30.0|        4|        88.0|      76.0|  2065|        14.5|   71|Europe|             1|\n",
            "|Volkswagen Model 111|27.0|        4|        97.0|      60.0|  1834|        19.0|   71|Europe|             1|\n",
            "|   Volkswagen Type 3|23.0|        4|        97.0|      54.0|  2254|        23.5|   72|Europe|             1|\n",
            "|     Volvo 145e (sw)|18.0|        4|       121.0|     112.0|  2933|        14.5|   72|Europe|             1|\n",
            "| Volkswagen 411 (sw)|22.0|        4|       121.0|      76.0|  2511|        18.0|   72|Europe|             1|\n",
            "|    Peugeot 504 (sw)|21.0|        4|       120.0|      87.0|  2979|        19.5|   72|Europe|             1|\n",
            "|     Renault 12 (sw)|26.0|        4|        96.0|      69.0|  2189|        18.0|   72|Europe|             1|\n",
            "|Volkswagen Super ...|26.0|        4|        97.0|      46.0|  1950|        21.0|   73|Europe|             1|\n",
            "|Fiat 124 Sport Coupe|26.0|        4|        98.0|      90.0|  2265|        15.5|   73|Europe|             1|\n",
            "|            Fiat 128|29.0|        4|        68.0|      49.0|  1867|        19.5|   73|Europe|             1|\n",
            "|          Opel Manta|24.0|        4|       116.0|      75.0|  2158|        15.5|   73|Europe|             1|\n",
            "+--------------------+----+---------+------------+----------+------+------------+-----+------+--------------+\n",
            "only showing top 20 rows\n",
            "\n"
          ]
        }
      ]
    },
    {
      "cell_type": "markdown",
      "source": [
        "Show min and max Weight"
      ],
      "metadata": {
        "id": "RC87rj5-fkAu"
      }
    },
    {
      "cell_type": "code",
      "source": [
        "from pyspark.sql.functions import min, max\n",
        "# Calcular el peso mínimo y máximo\n",
        "df_weight_stats = df.select(min(\"Weight\").alias(\"Min_Weight\"), max(\"Weight\").alias(\"Max_Weight\"))\n",
        "# Mostrar los resultados\n",
        "df_weight_stats.show()"
      ],
      "metadata": {
        "id": "pPUmRbshfl5P",
        "colab": {
          "base_uri": "https://localhost:8080/"
        },
        "outputId": "06cf266e-938b-4653-8eda-3687bc13a920"
      },
      "execution_count": 65,
      "outputs": [
        {
          "output_type": "stream",
          "name": "stdout",
          "text": [
            "+----------+----------+\n",
            "|Min_Weight|Max_Weight|\n",
            "+----------+----------+\n",
            "|      1613|      5140|\n",
            "+----------+----------+\n",
            "\n"
          ]
        }
      ]
    },
    {
      "cell_type": "markdown",
      "source": [
        "# Joins"
      ],
      "metadata": {
        "id": "JDsFKNYafp0O"
      }
    },
    {
      "cell_type": "code",
      "source": [
        "# Create two dataframes\n",
        "cars_df = spark.createDataFrame([[1, 'Car A'],[2, 'Car B'],[3, 'Car C']], [\"id\", \"car_name\"])\n",
        "car_price_df = spark.createDataFrame([[1, 1000],[2, 2000],[3, 3000]], [\"id\", \"car_price\"])\n",
        "cars_df.show()\n",
        "car_price_df.show()"
      ],
      "metadata": {
        "id": "jilsIc-efr_x",
        "colab": {
          "base_uri": "https://localhost:8080/"
        },
        "outputId": "5b18f380-7bff-4a0d-b84e-04b9ce33849b"
      },
      "execution_count": 66,
      "outputs": [
        {
          "output_type": "stream",
          "name": "stdout",
          "text": [
            "+---+--------+\n",
            "| id|car_name|\n",
            "+---+--------+\n",
            "|  1|   Car A|\n",
            "|  2|   Car B|\n",
            "|  3|   Car C|\n",
            "+---+--------+\n",
            "\n",
            "+---+---------+\n",
            "| id|car_price|\n",
            "+---+---------+\n",
            "|  1|     1000|\n",
            "|  2|     2000|\n",
            "|  3|     3000|\n",
            "+---+---------+\n",
            "\n"
          ]
        }
      ]
    },
    {
      "cell_type": "markdown",
      "source": [
        "Execute an inner join so we can see the id, name and price of each car in one row"
      ],
      "metadata": {
        "id": "AVj9v4tcfxNC"
      }
    },
    {
      "cell_type": "code",
      "source": [
        "# Ejecutar INNER JOIN en la columna \"id\"\n",
        "result_df = cars_df.join(car_price_df, on=\"id\", how=\"inner\")\n",
        "\n",
        "# Mostrar el resultado\n",
        "result_df.show()"
      ],
      "metadata": {
        "id": "K2iDwcclfx8U",
        "colab": {
          "base_uri": "https://localhost:8080/"
        },
        "outputId": "66a53327-fa93-487c-f365-b30490403de1"
      },
      "execution_count": 67,
      "outputs": [
        {
          "output_type": "stream",
          "name": "stdout",
          "text": [
            "+---+--------+---------+\n",
            "| id|car_name|car_price|\n",
            "+---+--------+---------+\n",
            "|  1|   Car A|     1000|\n",
            "|  2|   Car B|     2000|\n",
            "|  3|   Car C|     3000|\n",
            "+---+--------+---------+\n",
            "\n"
          ]
        }
      ]
    },
    {
      "cell_type": "markdown",
      "source": [
        "# Spark SQL\n",
        "\n",
        "\n",
        "*   Load Cars.csv\n",
        "*   Register a temporary table\n",
        "*   Select all data from temp table with a limit\n",
        "\n"
      ],
      "metadata": {
        "id": "9YPSMS3Df4fY"
      }
    },
    {
      "cell_type": "code",
      "source": [
        "# Carga de Cars.csv\n",
        "# Registrar la tabla temporal\n",
        "df.createOrReplaceTempView(\"cars\")"
      ],
      "metadata": {
        "id": "nwq3GwAdPceX"
      },
      "execution_count": 69,
      "outputs": []
    },
    {
      "cell_type": "code",
      "source": [
        "# ver todas las columnas con limit 5\n",
        "spark.sql(\"SELECT * FROM cars LIMIT 5\").show()"
      ],
      "metadata": {
        "colab": {
          "base_uri": "https://localhost:8080/"
        },
        "id": "ZT0xSj02PdvS",
        "outputId": "760beffe-1308-409e-d20f-66a1c6788a4a"
      },
      "execution_count": 70,
      "outputs": [
        {
          "output_type": "stream",
          "name": "stdout",
          "text": [
            "+--------------------+----+---------+------------+----------+------+------------+-----+------+--------------+\n",
            "|                 Car| MPG|Cylinders|Displacement|Horsepower|Weight|Acceleration|Model|Origin|new_column_one|\n",
            "+--------------------+----+---------+------------+----------+------+------------+-----+------+--------------+\n",
            "|Chevrolet Chevell...|18.0|        8|       307.0|     130.0|  3504|        12.0|   70|    US|             1|\n",
            "|   Buick Skylark 320|15.0|        8|       350.0|     165.0|  3693|        11.5|   70|    US|             1|\n",
            "|  Plymouth Satellite|18.0|        8|       318.0|     150.0|  3436|        11.0|   70|    US|             1|\n",
            "|       AMC Rebel SST|16.0|        8|       304.0|     150.0|  3433|        12.0|   70|    US|             1|\n",
            "|         Ford Torino|17.0|        8|       302.0|     140.0|  3449|        10.5|   70|    US|             1|\n",
            "+--------------------+----+---------+------------+----------+------+------------+-----+------+--------------+\n",
            "\n"
          ]
        }
      ]
    }
  ]
}